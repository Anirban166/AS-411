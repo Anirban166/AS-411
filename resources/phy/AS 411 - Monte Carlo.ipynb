{
 "cells": [
  {
   "cell_type": "markdown",
   "metadata": {},
   "source": [
    "# INTRODUCTION TO NUMERICAL PROGRAMMING\n",
    "\n",
    "A Practical Guide for Scientists and Engineers\n",
    "Using Python and C/C++\n",
    "\n",
    "by\n",
    "### Titus Adrien Beu"
   ]
  },
  {
   "cell_type": "markdown",
   "metadata": {},
   "source": [
    "### Monte carlo Integration"
   ]
  },
  {
   "cell_type": "code",
   "execution_count": 3,
   "metadata": {},
   "outputs": [
    {
     "name": "stdout",
     "output_type": "stream",
     "text": [
      "n = 500000\n",
      "s =  0.2640390474182033  +/-  0.00014861879748138092\n"
     ]
    }
   ],
   "source": [
    "# One-dimensional Monte Carlo quadrature\n",
    "from math import *\n",
    "from random import *\n",
    "def func(x): return x * exp(-x) # integrand\n",
    "# main\n",
    "n = eval(input(\"n = \")) # number of sampling points\n",
    "seed()\n",
    "f1 = f2 = 0e0 # quadrature with uniform sampling\n",
    "for i in range(1,n+1):\n",
    "    x = random() # RNG with uniform distribution\n",
    "    f = func(x) # integrand\n",
    "    f1 += f; f2 += f * f # sums\n",
    "f1 /= n; f2 /= n # averages\n",
    "s = f1 # integral\n",
    "sigma = sqrt((f2-f1*f1)/n) # standard deviation\n",
    "print(\"s = \",s,\" +/- \",sigma)"
   ]
  },
  {
   "cell_type": "markdown",
   "metadata": {},
   "source": [
    "### Monte Carlo integration of a Function with Importance Sampling"
   ]
  },
  {
   "cell_type": "code",
   "execution_count": 4,
   "metadata": {},
   "outputs": [
    {
     "name": "stdout",
     "output_type": "stream",
     "text": [
      "n = 100\n",
      "s =  0.26716485942768636  +/-  0.0019855440131496638\n"
     ]
    }
   ],
   "source": [
    "# One-dimensional Monte Carlo quadrature with variance reduction\n",
    "from math import *\n",
    "from random import *\n",
    "def ranSqrt():\n",
    "#----------------------------------------------------------------------------\n",
    "# Returns a random number x in the range [0,1) with the distribution\n",
    "# w(x) = 3/2 x^(1/2), and the corresponding value w(x)\n",
    "#----------------------------------------------------------------------------\n",
    "    x = pow(random(),2e0/3e0)\n",
    "    w = 1.5e0 * sqrt(x)\n",
    "    return (x, w)\n",
    "\n",
    "def func(x): return x * exp(-x) # integrand\n",
    "# main\n",
    "n = eval(input(\"n = \")) # number of sampling points\n",
    "seed()\n",
    "f1 = f2 = 0e0 # quadrature with importance sampling\n",
    "for i in range(1,n+1):\n",
    "    (x, w) = ranSqrt() # RNG with distribution w(x)\n",
    "    if (w):\n",
    "        f = func(x) / w # integrand\n",
    "        f1 += f; f2 += f * f # sums\n",
    "f1 /= n; f2 /= n # averages\n",
    "s = f1 # integral\n",
    "sigma = sqrt((f2-f1*f1)/n) # standard deviation\n",
    "print(\"s = \",s,\" +/- \",sigma)"
   ]
  },
  {
   "cell_type": "markdown",
   "metadata": {},
   "source": [
    "###  Monte Carlo calculation of the unit circle area"
   ]
  },
  {
   "cell_type": "code",
   "execution_count": 5,
   "metadata": {},
   "outputs": [
    {
     "name": "stdout",
     "output_type": "stream",
     "text": [
      "n = 100\n",
      "Unit circle area =  3.08  +/-  0.16833300330000653\n"
     ]
    }
   ],
   "source": [
    "# Monte Carlo calculation of the unit circle area\n",
    "from math import *\n",
    "from random import *\n",
    "# main\n",
    "n = eval(input(\"n = \")) # number of sampling points\n",
    "seed()\n",
    "ni = 0 # number of interior points\n",
    "for i in range(1,n+1):\n",
    "    x = random(); y = random()\n",
    "    if (x*x + y*y <= 1e0): ni += 1 # add interior point\n",
    "fi = ni/n # fraction of interior points\n",
    "s = 4e0 * fi # integral\n",
    "sigma = 4e0 * sqrt((fi - fi*fi)/n) # standard deviation\n",
    "print(\"Unit circle area = \",s,\" +/- \",sigma)"
   ]
  },
  {
   "cell_type": "markdown",
   "metadata": {},
   "source": [
    "### 2D Monte Carlo Integration with Importance Sampling"
   ]
  },
  {
   "cell_type": "code",
   "execution_count": 7,
   "metadata": {},
   "outputs": [
    {
     "name": "stdout",
     "output_type": "stream",
     "text": [
      "Uniform sampling : s =  1.0017743930918122  +/-  0.009611238290317925\n"
     ]
    },
    {
     "ename": "NameError",
     "evalue": "name 'randNrm2' is not defined",
     "output_type": "error",
     "traceback": [
      "\u001b[1;31m---------------------------------------------------------------------------\u001b[0m",
      "\u001b[1;31mNameError\u001b[0m                                 Traceback (most recent call last)",
      "\u001b[1;32m<ipython-input-7-dad7f218ce1f>\u001b[0m in \u001b[0;36m<module>\u001b[1;34m\u001b[0m\n\u001b[0;32m     21\u001b[0m \u001b[0mf1\u001b[0m \u001b[1;33m=\u001b[0m \u001b[0mf2\u001b[0m \u001b[1;33m=\u001b[0m \u001b[1;36m0e0\u001b[0m \u001b[1;31m# quadrature with importance sampling\u001b[0m\u001b[1;33m\u001b[0m\u001b[1;33m\u001b[0m\u001b[0m\n\u001b[0;32m     22\u001b[0m \u001b[1;32mfor\u001b[0m \u001b[0mi\u001b[0m \u001b[1;32min\u001b[0m \u001b[0mrange\u001b[0m\u001b[1;33m(\u001b[0m\u001b[1;36m1\u001b[0m\u001b[1;33m,\u001b[0m\u001b[0mn\u001b[0m\u001b[1;33m+\u001b[0m\u001b[1;36m1\u001b[0m\u001b[1;33m)\u001b[0m\u001b[1;33m:\u001b[0m\u001b[1;33m\u001b[0m\u001b[1;33m\u001b[0m\u001b[0m\n\u001b[1;32m---> 23\u001b[1;33m     \u001b[1;33m(\u001b[0m\u001b[0mw\u001b[0m\u001b[1;33m,\u001b[0m \u001b[0mx\u001b[0m\u001b[1;33m,\u001b[0m \u001b[0my\u001b[0m\u001b[1;33m)\u001b[0m \u001b[1;33m=\u001b[0m \u001b[0mrandNrm2\u001b[0m\u001b[1;33m(\u001b[0m\u001b[1;33m)\u001b[0m \u001b[1;31m# random numbers with normal distribution\u001b[0m\u001b[1;33m\u001b[0m\u001b[1;33m\u001b[0m\u001b[0m\n\u001b[0m\u001b[0;32m     24\u001b[0m     \u001b[0mf\u001b[0m \u001b[1;33m=\u001b[0m \u001b[0mfunc\u001b[0m\u001b[1;33m(\u001b[0m\u001b[0mx\u001b[0m\u001b[1;33m,\u001b[0m\u001b[0my\u001b[0m\u001b[1;33m)\u001b[0m \u001b[1;33m/\u001b[0m \u001b[0mw\u001b[0m \u001b[1;31m# integrand\u001b[0m\u001b[1;33m\u001b[0m\u001b[1;33m\u001b[0m\u001b[0m\n\u001b[0;32m     25\u001b[0m     \u001b[0mf1\u001b[0m \u001b[1;33m+=\u001b[0m \u001b[0mf\u001b[0m\u001b[1;33m;\u001b[0m \u001b[0mf2\u001b[0m \u001b[1;33m+=\u001b[0m \u001b[0mf\u001b[0m \u001b[1;33m*\u001b[0m \u001b[0mf\u001b[0m \u001b[1;31m# sums\u001b[0m\u001b[1;33m\u001b[0m\u001b[1;33m\u001b[0m\u001b[0m\n",
      "\u001b[1;31mNameError\u001b[0m: name 'randNrm2' is not defined"
     ]
    }
   ],
   "source": [
    "# Two-dimensional Monte Carlo quadrature with variance reduction\n",
    "from math import *\n",
    "from random import *\n",
    "# from random1 import *\n",
    "def func(x,y): # integrand\n",
    "    return (x*x + y*y)*exp(-0.5e0*(x*x + y*y))/(4e0*pi)\n",
    "# main\n",
    "L = 8e0 # integration domain [-L,L] x [-L,L]\n",
    "L2 = L * L # area of sampling domain\n",
    "n = 100000 # number of sampling points\n",
    "seed()\n",
    "f1 = f2 = 0e0 # quadrature with uniform sampling\n",
    "for i in range(1,n+1):\n",
    "    x = L * random(); y = L * random()\n",
    "    f = func(x,y) # integrand\n",
    "    f1 += f; f2 += f * f # sums\n",
    "f1 /= n; f2 /= n # averages\n",
    "s = 4e0 * L2 * f1 # integral\n",
    "sigma = 4e0 * L2 * sqrt((f2-f1*f1)/n) # standard deviation\n",
    "print(\"Uniform sampling : s = \",s,\" +/- \",sigma)\n",
    "f1 = f2 = 0e0 # quadrature with importance sampling\n",
    "for i in range(1,n+1):\n",
    "    (w, x, y) = randNrm2() # random numbers with normal distribution\n",
    "    f = func(x,y) / w # integrand\n",
    "    f1 += f; f2 += f * f # sums\n",
    "f1 /= n; f2 /= n # averages\n",
    "s = f1 # integral\n",
    "sigma = sqrt((f2-f1*f1)/n) # standard deviation\n",
    "print(\"Gaussian sampling: s = \",s,\" +/- \",sigma)"
   ]
  },
  {
   "cell_type": "markdown",
   "metadata": {},
   "source": [
    "### Monte Carlo Evaluation of the Mass Center of a Torus"
   ]
  },
  {
   "cell_type": "code",
   "execution_count": 8,
   "metadata": {},
   "outputs": [
    {
     "name": "stdout",
     "output_type": "stream",
     "text": [
      "m =  9.86921 +/-  0.00639\n",
      "xc =  0.00319 +/-  0.00154\n",
      "yc = -0.00112 +/-  0.00154\n",
      "zc = -0.00004 +/-  0.00017\n"
     ]
    }
   ],
   "source": [
    "# Monte Carlo calculation of the mass center of a torus of radii R and r,\n",
    "# centered at the origin and with Oz as symmetry axis\n",
    "from math import *\n",
    "from random import *\n",
    "def Func(x, y, z):\n",
    "    global R, r\n",
    "    Rp = sqrt(x*x + y*y) # major radial distance\n",
    "    dR = R - Rp\n",
    "    rp = sqrt(dR*dR + z*z) # minor radial distance\n",
    "    dr = 1e0 - rp/r\n",
    "    return (dr*dr if rp <= r else 0e0) # zero-padding\n",
    "\n",
    "# main\n",
    "R = 3e0; r = 1e0 # major & minor torus radii\n",
    "Lx = Ly = R + r; Lz = r # extended domain: 1st octant\n",
    "V = 8e0 * Lx * Ly * Lz # volume of total extended domain\n",
    "n = 10000000 # number of sampling points\n",
    "seed()\n",
    "sm = sx = sy = sz = 0e0\n",
    "sm2 = sx2 = sy2 = sz2 = 0e0\n",
    "for i in range(1,n+1):\n",
    "    x = Lx * (2e0*random() - 1e0) # -Lx <= x <= Lx\n",
    "    y = Ly * (2e0*random() - 1e0) # -Ly <= y <= Ly\n",
    "    z = Lz * (2e0*random() - 1e0) # -Lz <= x <= Lz\n",
    "    dens = Func(x,y,z) # density\n",
    "    if (dens):\n",
    "        f = dens ; sm += f; sm2 += f * f # sums\n",
    "        f = dens * x; sx += f; sx2 += f * f\n",
    "        f = dens * y; sy += f; sy2 += f * f\n",
    "        f = dens * z; sz += f; sz2 += f * f\n",
    "        \n",
    "sm /= n; sx /= n; sy /= n; sz /= n # averages\n",
    "m = V * sm; sigm = V * sqrt((sm2/n - sm*sm)/n); f = V/m # integrals\n",
    "xc = f * sx; sigx = f * sqrt((sx2/n - sx*sx)/n)\n",
    "yc = f * sy; sigy = f * sqrt((sy2/n - sy*sy)/n)\n",
    "zc = f * sz; sigz = f * sqrt((sz2/n - sz*sz)/n)\n",
    "print(\"m = {0:8.5f} +/- {1:8.5f}\".format(m ,sigm))\n",
    "print(\"xc = {0:8.5f} +/- {1:8.5f}\".format(xc,sigx))\n",
    "print(\"yc = {0:8.5f} +/- {1:8.5f}\".format(yc,sigy))\n",
    "print(\"zc = {0:8.5f} +/- {1:8.5f}\".format(zc,sigz))"
   ]
  },
  {
   "cell_type": "markdown",
   "metadata": {},
   "source": [
    "# Random number Generator"
   ]
  },
  {
   "cell_type": "markdown",
   "metadata": {},
   "source": [
    "### Linear Congruential Generator"
   ]
  },
  {
   "cell_type": "code",
   "execution_count": 9,
   "metadata": {},
   "outputs": [],
   "source": [
    "#============================================================================\n",
    "def randLCG1(iopt=1):\n",
    "#----------------------------------------------------------------------------\n",
    "# Linear Congruential Generator for real random numbers in the range [0,1)\n",
    "# Press, Teukolsky, Vetterling, Flannery, Numerical Recipes 3rd Ed., 2007\n",
    "# iopt = 0 initializes the sequence\n",
    "#----------------------------------------------------------------------------\n",
    "    global irnd # conserved between calls\n",
    "    a = 8121; c = 28411; m = 134456\n",
    "    if (iopt == 0): irnd = randrange(0xFFFFFFFF) # initialization\n",
    "    irnd = (a * irnd + c) % m\n",
    "    return irnd/m\n",
    "#============================================================================\n",
    "def randLCG2(iopt=1):\n",
    "#----------------------------------------------------------------------------\n",
    "# Linear Congruential Generator for real random numbers in the range [0,1)\n",
    "# D. Rapaport, The Art of Molecular Dynamics Simulation, Cambridge, 2004\n",
    "# iopt = 0 initializes the sequence\n",
    "#----------------------------------------------------------------------------\n",
    "    global irnd # conserved between calls\n",
    "    a = 314159269; c = 453806245; m = 2147483647\n",
    "    if (iopt == 0): irnd = randrange(0xFFFFFFFF) # initialization\n",
    "    irnd = (a * irnd + c) & m\n",
    "    return irnd/m"
   ]
  },
  {
   "cell_type": "markdown",
   "metadata": {},
   "source": [
    "## Random Number Generators with Normal Distribution"
   ]
  },
  {
   "cell_type": "code",
   "execution_count": 10,
   "metadata": {},
   "outputs": [],
   "source": [
    "#============================================================================\n",
    "def randNrm():\n",
    "#----------------------------------------------------------------------------\n",
    "# Returns random numbers with normal distribution\n",
    "# w = exp(-0.5e0*x*x) / sqrt(2*pi)\n",
    "# using the central limit theorem and sums of 12 uniform random numbers\n",
    "#----------------------------------------------------------------------------\n",
    "    sum = 0e0\n",
    "    for i in range(1,13): sum += random()\n",
    "    x = sum - 6e0\n",
    "    w = 0.398942280401433 * exp(-0.5e0*x*x) # 1/sqrt(2*pi) = 0.3989...\n",
    "    return (w, x)\n",
    "#============================================================================\n",
    "def randNrm2():\n",
    "#----------------------------------------------------------------------------\n",
    "# Returns 2 random numbers (x,y) with normal distribution\n",
    "# w = exp(-(x*x+y*y)/2) / (2*pi)\n",
    "# and the corresponding distribution value\n",
    "#----------------------------------------------------------------------------\n",
    "    r2 = -log(1e0 - random()) # exponential distribution for r**2/2\n",
    "    w = exp(-r2) / (2e0*pi) # distribution function value\n",
    "    r = sqrt(2e0*r2); theta = 2e0 * pi * random() # polar coordinates\n",
    "    x = r * cos(theta); y = r * sin(theta) # Cartesian projections\n",
    "    return (w, x, y)"
   ]
  },
  {
   "cell_type": "markdown",
   "metadata": {},
   "source": [
    "## Random Number Generator Based on the Metropolis Method "
   ]
  },
  {
   "cell_type": "code",
   "execution_count": 11,
   "metadata": {},
   "outputs": [],
   "source": [
    "#============================================================================\n",
    "def randMet(w, delta, iopt=1):\n",
    "#----------------------------------------------------------------------------\n",
    "# Generates random numbers x with the distribution w(x) by the Metropolis\n",
    "# method, using a maximal trial step size delta\n",
    "# iopt = 0 initializes the sequence\n",
    "#----------------------------------------------------------------------------\n",
    "    global xrnd # conserved between calls\n",
    "    if (iopt == 0): xrnd = 2e0*random() - 1e0 # initialization\n",
    "    dx = delta * (2e0*random() - 1e0) # trial step size\n",
    "    if (random() <= w(xrnd+dx)/w(xrnd)): xrnd += dx # accept with prob. w(x)\n",
    "    return xrnd"
   ]
  },
  {
   "cell_type": "markdown",
   "metadata": {},
   "source": [
    "### Problem 1\n",
    "\n",
    "Consider the one-dimensional integrals:\n",
    "\n",
    "$\\frac{1}{\\sqrt{2\\pi}} = \\int_{0}^∞ e^{\\frac{−x^2}{2}}dx = \\frac{1}{2}$, \n",
    "\n",
    "$\\frac{1}{\\sqrt{2\\pi}}  = \\int_{0}^∞ x^4\\ e^{\\frac{−x^2}{2}}dx = \\frac{3}{2} $.\n",
    "\n",
    "a. Evaluate the integrals by Monte Carlo techniques, applying comparatively uniform and exponential sampling (using function randExp). Consider numbers of sampling points ranging from n = 250 to 100,000, and plot the integral estimates and the associated standard deviations.\n",
    "\n",
    "b. Explain the significant variance reduction when using exponential sampling for the first integral and the lack of effect in the case of the second integral.\n",
    "\n",
    "c. Use the routine LinFit ( from modfunc.py) to perform linear regression and extract the scaling laws of the standard deviations for the two probability distributions from their log–log plots."
   ]
  },
  {
   "cell_type": "markdown",
   "metadata": {},
   "source": [
    "### Solution\n",
    "Monte Carlo Integration of a Function with Importance Sampling"
   ]
  },
  {
   "cell_type": "code",
   "execution_count": 12,
   "metadata": {},
   "outputs": [
    {
     "ename": "ModuleNotFoundError",
     "evalue": "No module named 'random1'",
     "output_type": "error",
     "traceback": [
      "\u001b[1;31m---------------------------------------------------------------------------\u001b[0m",
      "\u001b[1;31mModuleNotFoundError\u001b[0m                       Traceback (most recent call last)",
      "\u001b[1;32m<ipython-input-12-13f5ab393c32>\u001b[0m in \u001b[0;36m<module>\u001b[1;34m\u001b[0m\n\u001b[0;32m      2\u001b[0m \u001b[1;32mfrom\u001b[0m \u001b[0mmath\u001b[0m \u001b[1;32mimport\u001b[0m \u001b[1;33m*\u001b[0m\u001b[1;33m\u001b[0m\u001b[1;33m\u001b[0m\u001b[0m\n\u001b[0;32m      3\u001b[0m \u001b[1;32mfrom\u001b[0m \u001b[0mrandom\u001b[0m \u001b[1;32mimport\u001b[0m \u001b[1;33m*\u001b[0m\u001b[1;33m\u001b[0m\u001b[1;33m\u001b[0m\u001b[0m\n\u001b[1;32m----> 4\u001b[1;33m \u001b[1;32mfrom\u001b[0m \u001b[0mrandom1\u001b[0m \u001b[1;32mimport\u001b[0m \u001b[1;33m*\u001b[0m\u001b[1;33m\u001b[0m\u001b[1;33m\u001b[0m\u001b[0m\n\u001b[0m\u001b[0;32m      5\u001b[0m \u001b[1;32mfrom\u001b[0m \u001b[0mmodfunc\u001b[0m \u001b[1;32mimport\u001b[0m \u001b[1;33m*\u001b[0m\u001b[1;33m\u001b[0m\u001b[1;33m\u001b[0m\u001b[0m\n\u001b[0;32m      6\u001b[0m \u001b[1;32mfrom\u001b[0m \u001b[0mgraphlib\u001b[0m \u001b[1;32mimport\u001b[0m \u001b[1;33m*\u001b[0m\u001b[1;33m\u001b[0m\u001b[1;33m\u001b[0m\u001b[0m\n",
      "\u001b[1;31mModuleNotFoundError\u001b[0m: No module named 'random1'"
     ]
    }
   ],
   "source": [
    "# One-dimensional Monte Carlo quadrature with variance reduction\n",
    "from math import *\n",
    "from random import *\n",
    "from random1 import *\n",
    "from modfunc import *\n",
    "from graphlib import *\n",
    "\n",
    "\n",
    "wnorm = 1e0/sqrt(2e0*pi)\n",
    "def func(x): return wnorm * exp(-0.5e0*x*x) # integrand\n",
    "\n",
    "\n",
    "# main\n",
    "L = 8e0 # integration domain [0,L)\n",
    "\n",
    "nn = [0]*3 # ending indexes of plots\n",
    "col = [\"\"]*3 # colors of plots\n",
    "sty = [0]*3 # styles of plots\n",
    "\n",
    "np = 400 # number of plotting points\n",
    "x1 = [0]*(2*np+1); y1 = [0]*(2*np+1) # plotting points\n",
    "x2 = [0]*(2*np+1); y2 = [0]*(2*np+1); sig = [0]*(2*np+1)\n",
    "\n",
    "seed()\n",
    "\n",
    "out = open(\"mcarlo.txt\",\"w\") # open output file\n",
    "out.write(\" n Int sig Int_w sig_w\\n\")\n",
    "\n",
    "for ip in range(1,np+1):\n",
    "    n = 250 * ip # number of sampling points\n",
    "    \n",
    "    f1 = f2 = 0e0 # quadrature with uniform sampling\n",
    "    for i in range(1,n+1):\n",
    "        x = L * random() # RNG with uniform distribution in [0,L)\n",
    "        f = func(x) # integrand\n",
    "        f1 += f; f2 += f * f # sums\n",
    "        \n",
    "    f1 /= n; f2 /= n # averages\n",
    "    s = L * f1 # integral\n",
    "    sigma = L * sqrt((f2-f1*f1)/n) # standard deviation\n",
    "    out.write((\"{0:8d}{1:10.5f}{2:10.5f}\").format(n,s,sigma))\n",
    "    x1[ip] = n ; y1[ip] = s\n",
    "    x2[ip] = log10(n); y2[ip] = log10(sigma)\n",
    "    \n",
    "    f1 = f2 = 0e0 # quadrature with importance sampling\n",
    "    for i in range(1,n+1):\n",
    "        x = randExp() # RNG with exponential distribution\n",
    "        f = func(x) / exp(-x) # integrand\n",
    "        f1 += f; f2 += f * f # sums\n",
    "        \n",
    "    f1 /= n; f2 /= n # averages\n",
    "    s = f1 # integral\n",
    "    sigma = sqrt((f2-f1*f1)/n) # standard deviation\n",
    "    out.write((\"{0:10.5f}{1:10.5f}\\n\").format(s,sigma))\n",
    "    x1[np+ip] = n ; y1[np+ip] = s\n",
    "    x2[np+ip] = log10(n); y2[np+ip] = log10(sigma)\n",
    "    \n",
    "out.close()\n",
    "# linear regression\n",
    "(a, b, sigma, sigmb, chi2) = LinFit(x2[0:],y2[0:],sig,np,0)\n",
    "print(\"sigma = {0:6.3f} n**({1:6.3f}) w(x) = 1\".format(pow(10e0,b),a))\n",
    "\n",
    "(a, b, sigma, sigmb, chi2) = LinFit(x2[np:],y2[np:],sig,np,0)\n",
    "print(\"sigma = {0:6.3f} n**({1:6.3f}) w(x) = exp(-x)\". \\\n",
    "      format(pow(10e0,b),a))\n",
    "\n",
    "GraphInit(1200,600)\n",
    "\n",
    "nn[1] = np; col[1] = \"blue\"; sty[1] = 0 # uniform sampling\n",
    "nn[2] = 2*np; col[2] = \"red\" ; sty[2] = 0 # importance sampling\n",
    "MultiPlot(x1,y1,y1,nn,col,sty,2,10,0e0,0e0,0,0e0,0e0,0,\n",
    "          0.10,0.45,0.15,0.85,\"n\",\"Int\",\"Monte Carlo - integral\")\n",
    "\n",
    "MultiPlot(x2,y2,y2,nn,col,sty,2,10,0e0,0e0,0,0e0,0e0,0,\n",
    "          0.60,0.95,0.15,0.85,\"log(n)\",\"log(sig)\",\n",
    "          \"Monte Carlo - standard deviation\")\n",
    "\n",
    "MainLoop()"
   ]
  },
  {
   "cell_type": "code",
   "execution_count": null,
   "metadata": {},
   "outputs": [],
   "source": []
  }
 ],
 "metadata": {
  "kernelspec": {
   "display_name": "Python 3",
   "language": "python",
   "name": "python3"
  },
  "language_info": {
   "codemirror_mode": {
    "name": "ipython",
    "version": 3
   },
   "file_extension": ".py",
   "mimetype": "text/x-python",
   "name": "python",
   "nbconvert_exporter": "python",
   "pygments_lexer": "ipython3",
   "version": "3.6.8"
  }
 },
 "nbformat": 4,
 "nbformat_minor": 2
}
